{
 "cells": [
  {
   "cell_type": "code",
   "execution_count": null,
   "metadata": {},
   "outputs": [],
   "source": [
    "import pandas as pd \n",
    "import seaborn as sns \n",
    "import matplotlib.pyplot as plt \n",
    "import numpy as np \n",
    "from sklearn.neighbors import KNeighborsClassifier \n",
    "from sklearn.model_selection import train_test_split \n",
    "from sklearn.ensemble import AdaBoostClassifier\n",
    "from sklearn import metrics\n",
    "from sklearn.tree import DecisionTreeClassifier \n",
    "from sklearn.metrics import accuracy_score \n",
    "from sklearn.metrics import classification_report \n",
    "from sklearn import preprocessing"
   ]
  },
  {
   "cell_type": "code",
   "execution_count": null,
   "metadata": {},
   "outputs": [],
   "source": [
    "#reading in the training data\n",
    "df = pd.read_csv(\"Datasets/boosting_train.csv\") \n",
    "df.head() "
   ]
  },
  {
   "cell_type": "code",
   "execution_count": null,
   "metadata": {},
   "outputs": [],
   "source": [
    "features = df.drop(columns=['Letter Value'])\n",
    "features.head()"
   ]
  },
  {
   "cell_type": "code",
   "execution_count": null,
   "metadata": {},
   "outputs": [],
   "source": [
    "#attempt to implement boosting following adaboost algorithm\n",
    "x_train, x_test, y_train, y_test = train_test_split(features, df['Letter Value'], test_size = 0.25)\n",
    "\n",
    "training_sample = pd.DataFrame(data = x_train, columns = ['x-box','y-box','width','height','onpix','x-bar','y-bar','x2bar','y2bar','xybar',\n",
    "                                  'x2ybr','xy2br','x-ege','xegvy','y-ege','yegvx'])\n",
    "training_label = pd.DataFrame(data = y_train, columns = ['Letter Value'])\n",
    "tr_sample_alone = training_sample\n",
    "\n",
    "training_sample.insert(0, \"Letter Value\", training_label) "
   ]
  },
  {
   "cell_type": "code",
   "execution_count": null,
   "metadata": {},
   "outputs": [],
   "source": [
    "prototype = []\n",
    "p_features = []\n",
    "p_label = []\n",
    "current_error = 100\n",
    "iteration = 1\n",
    "\n",
    "#adjust prototype size by changing the value of the while check\n",
    "while len(prototype) <= 10:\n",
    "    print('Length at the beginning:', len(prototype))\n",
    "    print('Current error:', current_error)\n",
    "    print('Current Iteration:', iteration)\n",
    "\n",
    "    #1.select n points at random\n",
    "    random = training_sample.sample(n=10, replace = False)\n",
    "    training_error = []\n",
    "    \n",
    "    #2a. find the errors of each of these points with the prototype set\n",
    "    for ind in random.index:\n",
    "        row = random.loc[ind]\n",
    "        \n",
    "        #extract each sample individualy from n points and test with Prototype set\n",
    "        feature = [row['x-box'],row['y-box'],row['width'],row['height'],row['onpix'],row['x-bar'],row['y-bar'],row['x2bar'],\n",
    "                      row['y2bar'],row['xybar'],row['x2ybr'],row['xy2br'],row['x-ege'],row['xegvy'],row['y-ege'],row['yegvx']]\n",
    "        label = row['Letter Value']\n",
    "        \n",
    "        p_features.append(feature)\n",
    "        p_label.append(label)\n",
    "    \n",
    "        p_features_pd = pd.DataFrame(data = p_features, columns = ['x-box','y-box','width','height','onpix','x-bar','y-bar',\n",
    "                                     'x2bar','y2bar','xybar','x2ybr','xy2br','x-ege','xegvy','y-ege','yegvx'])\n",
    "        p_label_pd = pd.DataFrame(data = p_label, columns = ['Letter Value'])\n",
    "        \n",
    "        knn = KNeighborsClassifier(n_neighbors = 1) \n",
    "        knn.fit(p_features_pd, p_label_pd.values.ravel())\n",
    "        \n",
    "        training_error.append(1 - (knn.score(x_train, y_train)))\n",
    "        \n",
    "        p_label.pop()\n",
    "        p_features.pop()\n",
    "        \n",
    "        \n",
    "    #2b. Find the point with the lowest error    \n",
    "    iteration += 1\n",
    "    a = min(training_error) \n",
    "    print ('Lowest training error out of ten random points is: ',a)\n",
    "\n",
    "    #check for an actual decrease in the prototype error\n",
    "    if current_error < a and iteration <= 500 :\n",
    "        continue\n",
    "\n",
    "    index_a = training_error.index(a)\n",
    "    \n",
    "    #to find its position in 'random'\n",
    "    random.insert(0, \"index1\", random.index)\n",
    "    random_array = random.to_numpy()\n",
    "    point = random_array[index_a]\n",
    "    print ('Attribute value of selected candidate: ', point)\n",
    "    \n",
    "    #3. add this point to set P    \n",
    "    #3a first check for duplicates\n",
    "    for i in range(0,(len(prototype))):\n",
    "        if (point[0] == ((prototype[i])[0])):\n",
    "            continue\n",
    "    \n",
    "    #3b then append to set p\n",
    "    prototype.append(point)\n",
    "    p_label.append(point[1])\n",
    "    p_features.append(point[2:])\n",
    "    print('Round completed:', len(prototype))\n",
    "    print()\n",
    "\n",
    "    current_error = a\n",
    "    iteration = 1\n",
    "    \n",
    "    #4. repeat the process at another 10 points, this time adding points that have the lowest decrease in error\n",
    "    #5. stop when P is size n\n",
    "    #this is one iteration"
   ]
  },
  {
   "cell_type": "code",
   "execution_count": null,
   "metadata": {},
   "outputs": [],
   "source": [
    "#to find a way of getting these points as training data vs x_test\n",
    "p_boost = pd.DataFrame(data = prototype, columns = ['index','Letter Value','x-box','y-box','width','height','onpix','x-bar','y-bar','x2bar','y2bar','xybar',\n",
    "                                  'x2ybr','xy2br','x-ege','xegvy','y-ege','yegvx'])\n",
    "p_boost = p_boost.set_index('index')\n",
    "p_boost"
   ]
  },
  {
   "cell_type": "code",
   "execution_count": null,
   "metadata": {},
   "outputs": [],
   "source": [
    "features_boost = p_boost.drop(columns=['Letter Value'])\n",
    "features_boost.head()"
   ]
  },
  {
   "cell_type": "code",
   "execution_count": null,
   "metadata": {
    "scrolled": true
   },
   "outputs": [],
   "source": [
    "label_boost = p_boost['Letter Value']\n",
    "label_boost"
   ]
  },
  {
   "cell_type": "code",
   "execution_count": null,
   "metadata": {},
   "outputs": [],
   "source": [
    "#you're going to train this with validation(test) data\n",
    "boosted_train_error = []\n",
    "\n",
    "knn = KNeighborsClassifier(n_neighbors = 3) \n",
    "knn.fit(features_boost, label_boost)\n",
    "        \n",
    "#boosted_train_error.append(1 - (knn.score(x_train, y_train)))\n",
    "boosted_train_error = 1 - (knn.score(x_train, y_train))\n",
    "print('Train error:',boosted_train_error)\n",
    "boosted_val_error = 1 - (knn.score(x_test, y_test))\n",
    "print('Validation error:',boosted_val_error)"
   ]
  },
  {
   "cell_type": "code",
   "execution_count": null,
   "metadata": {},
   "outputs": [],
   "source": [
    "#export this prototype set\n",
    "p_boost.to_csv(\"boosted data.csv\")"
   ]
  },
  {
   "cell_type": "code",
   "execution_count": null,
   "metadata": {},
   "outputs": [],
   "source": [
    "#train boosted set on final test\n",
    "df_t = pd.read_csv(\"Datasets/boosting_test.csv\") \n",
    "features_t = df_t.drop(columns=['Letter Value'])\n",
    "labels_t =  df_t['Letter Value']\n",
    "\n",
    "pred = knn.predict(features_t)\n",
    "true_test_error = 1 - (knn.score(features_t, labels_t))\n",
    "\n",
    "true_test_error"
   ]
  },
  {
   "cell_type": "code",
   "execution_count": null,
   "metadata": {},
   "outputs": [],
   "source": [
    "#exporting actual values of prediction and label\n",
    "export =pd.DataFrame(data={\"Actual Labels\":labels_t,\"Predicted Labels\": pred})\n",
    "export.to_csv(\"actual vs predicted labes.csv\")"
   ]
  },
  {
   "cell_type": "code",
   "execution_count": null,
   "metadata": {},
   "outputs": [],
   "source": []
  }
 ],
 "metadata": {
  "kernelspec": {
   "display_name": "Python 3",
   "language": "python",
   "name": "python3"
  },
  "language_info": {
   "codemirror_mode": {
    "name": "ipython",
    "version": 3
   },
   "file_extension": ".py",
   "mimetype": "text/x-python",
   "name": "python",
   "nbconvert_exporter": "python",
   "pygments_lexer": "ipython3",
   "version": "3.7.4"
  }
 },
 "nbformat": 4,
 "nbformat_minor": 2
}
